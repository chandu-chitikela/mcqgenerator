{
 "cells": [
  {
   "cell_type": "code",
   "execution_count": 1,
   "id": "a5895af3",
   "metadata": {},
   "outputs": [],
   "source": [
    "import os\n",
    "import json\n",
    "import pandas as pd\n",
    "import traceback"
   ]
  },
  {
   "cell_type": "code",
   "execution_count": 11,
   "id": "45990ca8",
   "metadata": {},
   "outputs": [],
   "source": [
    "from langchain_openai import ChatOpenAI\n"
   ]
  },
  {
   "cell_type": "code",
   "execution_count": 14,
   "id": "d9e76cc9",
   "metadata": {},
   "outputs": [
    {
     "data": {
      "text/plain": [
       "True"
      ]
     },
     "execution_count": 14,
     "metadata": {},
     "output_type": "execute_result"
    }
   ],
   "source": [
    "from dotenv import load_dotenv\n",
    "load_dotenv()"
   ]
  },
  {
   "cell_type": "code",
   "execution_count": 15,
   "id": "d351581f",
   "metadata": {},
   "outputs": [],
   "source": [
    "KEY=os.getenv(\"OPENAI_API_KEY\")"
   ]
  },
  {
   "cell_type": "code",
   "execution_count": 16,
   "id": "5f0ed221",
   "metadata": {},
   "outputs": [],
   "source": [
    "llm=ChatOpenAI(openai_api_key=KEY,model_name=\"gpt-3.5-turbo\",temperature=0.5)"
   ]
  },
  {
   "cell_type": "code",
   "execution_count": 17,
   "id": "1e1c3b1e",
   "metadata": {},
   "outputs": [],
   "source": [
    "from langchain.llms import OpenAI\n",
    "from langchain.prompts import PromptTemplate\n",
    "from langchain.chains import LLMChain\n",
    "from langchain.chains import SequentialChain\n",
    "from langchain.callbacks import get_openai_callback\n",
    "import PyPDF2"
   ]
  },
  {
   "cell_type": "code",
   "execution_count": 21,
   "id": "e25e3f2a",
   "metadata": {},
   "outputs": [],
   "source": [
    "RESPONSE_JSON = {\n",
    "    \"1\": {\n",
    "        \"mcq\": \"multiple choice question\",\n",
    "        \"options\": {\n",
    "            \"a\": \"choice here\",\n",
    "            \"b\": \"choice here\",\n",
    "            \"c\": \"choice here\",\n",
    "            \"d\": \"choice here\",\n",
    "        },\n",
    "        \"correct\": \"correct answer\",\n",
    "    },\n",
    "    \"2\": {\n",
    "        \"mcq\": \"multiple choice question\",\n",
    "        \"options\": {\n",
    "            \"a\": \"choice here\",\n",
    "            \"b\": \"choice here\",\n",
    "            \"c\": \"choice here\",\n",
    "            \"d\": \"choice here\",\n",
    "        },\n",
    "        \"correct\": \"correct answer\",\n",
    "    },\n",
    "    \"3\": {\n",
    "        \"mcq\": \"multiple choice question\",\n",
    "        \"options\": {\n",
    "            \"a\": \"choice here\",\n",
    "            \"b\": \"choice here\",\n",
    "            \"c\": \"choice here\",\n",
    "            \"d\": \"choice here\",\n",
    "        },\n",
    "        \"correct\": \"correct answer\",\n",
    "    },\n",
    "}"
   ]
  },
  {
   "cell_type": "code",
   "execution_count": 22,
   "id": "e967d74b",
   "metadata": {},
   "outputs": [],
   "source": [
    "TEMPLATE=\"\"\"\n",
    "Text:{text}\n",
    "You are an expert MCQ maker. Given the above text, it is your job to \\\n",
    "create a quiz  of {number} multiple choice questions for {subject} students in {tone} tone. \n",
    "Make sure the questions are not repeated and check all the questions to be conforming the text as well.\n",
    "Make sure to format your response like  RESPONSE_JSON below  and use it as a guide. \\\n",
    "Ensure to make {number} MCQs\n",
    "### RESPONSE_JSON\n",
    "{response_json}\n",
    "\n",
    "\"\"\""
   ]
  },
  {
   "cell_type": "code",
   "execution_count": 23,
   "id": "0d3046a2",
   "metadata": {},
   "outputs": [],
   "source": [
    "quiz_generation_prompt = PromptTemplate(\n",
    "    input_variables=[\"text\",\"number\",\"subject\",\"tone\",\"response_json\"],\n",
    "    template=TEMPLATE\n",
    ")"
   ]
  },
  {
   "cell_type": "code",
   "execution_count": 24,
   "id": "1b9ffe2a",
   "metadata": {},
   "outputs": [
    {
     "name": "stderr",
     "output_type": "stream",
     "text": [
      "C:\\Users\\HP\\AppData\\Local\\Temp\\ipykernel_2800\\2575176920.py:1: LangChainDeprecationWarning: The class `LLMChain` was deprecated in LangChain 0.1.17 and will be removed in 1.0. Use :meth:`~RunnableSequence, e.g., `prompt | llm`` instead.\n",
      "  quiz_chain = LLMChain(llm=llm,prompt=quiz_generation_prompt,output_key=\"quiz\",verbose=True)\n"
     ]
    }
   ],
   "source": [
    "quiz_chain = LLMChain(llm=llm,prompt=quiz_generation_prompt,output_key=\"quiz\",verbose=True) "
   ]
  },
  {
   "cell_type": "code",
   "execution_count": 25,
   "id": "514c8e2f",
   "metadata": {},
   "outputs": [],
   "source": [
    "TEMPLATE2=\"\"\"\n",
    "You are an expert english grammarian and writer. Given a Multiple Choice Quiz for {subject} students.\\\n",
    "You need to evaluate the complexity of the question and give a complete analysis of the quiz. Only use at max 50 words for complexity analysis. \n",
    "if the quiz is not at per with the cognitive and analytical abilities of the students,\\\n",
    "update the quiz questions which needs to be changed and change the tone such that it perfectly fits the student abilities\n",
    "Quiz_MCQs:\n",
    "{quiz}\n",
    "\n",
    "Check from an expert English Writer of the above quiz:\n",
    "\"\"\""
   ]
  },
  {
   "cell_type": "code",
   "execution_count": 26,
   "id": "4bdad184",
   "metadata": {},
   "outputs": [],
   "source": [
    "quiz_evaluation_prompt=PromptTemplate(input_variables=[\"subject\", \"quiz\"], template=TEMPLATE)\n"
   ]
  },
  {
   "cell_type": "code",
   "execution_count": 28,
   "id": "2063089d",
   "metadata": {},
   "outputs": [],
   "source": [
    "review_chain = LLMChain(llm=llm,prompt=quiz_evaluation_prompt,output_key=\"review\",verbose=True)"
   ]
  },
  {
   "cell_type": "code",
   "execution_count": 29,
   "id": "e70d3477",
   "metadata": {},
   "outputs": [],
   "source": [
    "generate_evaluate_chain = SequentialChain(chains=[quiz_chain, review_chain],input_variables=[\"text\",\"number\",\"subject\",\"tone\",\"response_json\"],output_variables=[\"quiz\",\"review\"],verbose=True)"
   ]
  },
  {
   "cell_type": "code",
   "execution_count": 34,
   "id": "50694fd2",
   "metadata": {},
   "outputs": [],
   "source": [
    "file_path = r\"C:\\Users\\HP\\mcqgenerator\\data.txt\""
   ]
  },
  {
   "cell_type": "code",
   "execution_count": 35,
   "id": "a8cfe516",
   "metadata": {},
   "outputs": [],
   "source": [
    "with open(file_path, \"r\") as file:\n",
    "    TEXT= file.read()"
   ]
  },
  {
   "cell_type": "code",
   "execution_count": 36,
   "id": "fb8378c2",
   "metadata": {},
   "outputs": [
    {
     "name": "stdout",
     "output_type": "stream",
     "text": [
      "Machine learning (ML) is a subfield of artificial intelligence (AI) that focuses on developing algorithms and models that allow computers to learn from and make predictions or decisions based on data, without being explicitly programmed for every task. In essence, it empowers machines to learn from experience and improve their performance over time by analyzing data and identifying patterns. \n",
      "Here's a more detailed explanation:\n",
      "Core Concept:\n",
      "Machine learning algorithms are designed to find patterns and relationships within data, and then use those patterns to make predictions or decisions about new, unseen data. \n",
      "Instead of being explicitly programmed with specific instructions, machines learn from data through a process of training. \n",
      "This training process involves feeding the algorithm a large dataset and allowing it to adjust its internal parameters to minimize errors and improve accuracy. \n",
      "Key Aspects:\n",
      "Data-driven:\n",
      "Machine learning relies heavily on data. The quality and quantity of data directly impact the performance of the algorithms. \n",
      "Algorithms:\n",
      "Machine learning uses various algorithms, each designed for different types of tasks and data. \n",
      "Models:\n",
      "The result of training a machine learning algorithm on a dataset is a model. This model represents the learned patterns and relationships within the data. \n",
      "Learning:\n",
      "Machine learning algorithms can learn in different ways, including supervised learning (using labeled data), unsupervised learning (using unlabeled data), and reinforcement learning (learning through trial and error). \n",
      "Applications: \n",
      "Machine learning has a wide range of applications across various industries, including:\n",
      "Healthcare: Diagnosing diseases, analyzing medical images, and predicting patient outcomes.\n",
      "Finance: Detecting fraud, assessing credit risk, and predicting stock prices.\n",
      "E-commerce: Recommending products, personalizing user experiences, and optimizing pricing.\n",
      "Transportation: Developing self-driving cars, optimizing traffic flow, and predicting accidents.\n",
      "Natural Language Processing: Machine translation, sentiment analysis, and chatbots.\n",
      "In essence, machine learning is a powerful tool that enables computers to learn and adapt from data, leading to intelligent systems that can solve complex problems and automate tasks in a variety of fields. \n"
     ]
    }
   ],
   "source": [
    "print(TEXT)"
   ]
  },
  {
   "cell_type": "code",
   "execution_count": 37,
   "id": "deff298d",
   "metadata": {},
   "outputs": [
    {
     "data": {
      "text/plain": [
       "'{\"1\": {\"mcq\": \"multiple choice question\", \"options\": {\"a\": \"choice here\", \"b\": \"choice here\", \"c\": \"choice here\", \"d\": \"choice here\"}, \"correct\": \"correct answer\"}, \"2\": {\"mcq\": \"multiple choice question\", \"options\": {\"a\": \"choice here\", \"b\": \"choice here\", \"c\": \"choice here\", \"d\": \"choice here\"}, \"correct\": \"correct answer\"}, \"3\": {\"mcq\": \"multiple choice question\", \"options\": {\"a\": \"choice here\", \"b\": \"choice here\", \"c\": \"choice here\", \"d\": \"choice here\"}, \"correct\": \"correct answer\"}}'"
      ]
     },
     "execution_count": 37,
     "metadata": {},
     "output_type": "execute_result"
    }
   ],
   "source": [
    "json.dumps(RESPONSE_JSON)"
   ]
  },
  {
   "cell_type": "code",
   "execution_count": 38,
   "id": "649b8b64",
   "metadata": {},
   "outputs": [],
   "source": [
    "NUMBER = 3\n",
    "SUBJECT = \"Machine Learning\"\n",
    "TONE = \"simple\"\n"
   ]
  },
  {
   "cell_type": "code",
   "execution_count": 39,
   "id": "42fc483c",
   "metadata": {},
   "outputs": [
    {
     "name": "stderr",
     "output_type": "stream",
     "text": [
      "C:\\Users\\HP\\AppData\\Local\\Temp\\ipykernel_2800\\815328654.py:2: LangChainDeprecationWarning: The method `Chain.__call__` was deprecated in langchain 0.1.0 and will be removed in 1.0. Use :meth:`~invoke` instead.\n",
      "  response=generate_evaluate_chain(\n"
     ]
    },
    {
     "name": "stdout",
     "output_type": "stream",
     "text": [
      "\n",
      "\n",
      "\u001b[1m> Entering new SequentialChain chain...\u001b[0m\n",
      "\n",
      "\n",
      "\u001b[1m> Entering new LLMChain chain...\u001b[0m\n",
      "Prompt after formatting:\n",
      "\u001b[32;1m\u001b[1;3m\n",
      "Text:Machine learning (ML) is a subfield of artificial intelligence (AI) that focuses on developing algorithms and models that allow computers to learn from and make predictions or decisions based on data, without being explicitly programmed for every task. In essence, it empowers machines to learn from experience and improve their performance over time by analyzing data and identifying patterns. \n",
      "Here's a more detailed explanation:\n",
      "Core Concept:\n",
      "Machine learning algorithms are designed to find patterns and relationships within data, and then use those patterns to make predictions or decisions about new, unseen data. \n",
      "Instead of being explicitly programmed with specific instructions, machines learn from data through a process of training. \n",
      "This training process involves feeding the algorithm a large dataset and allowing it to adjust its internal parameters to minimize errors and improve accuracy. \n",
      "Key Aspects:\n",
      "Data-driven:\n",
      "Machine learning relies heavily on data. The quality and quantity of data directly impact the performance of the algorithms. \n",
      "Algorithms:\n",
      "Machine learning uses various algorithms, each designed for different types of tasks and data. \n",
      "Models:\n",
      "The result of training a machine learning algorithm on a dataset is a model. This model represents the learned patterns and relationships within the data. \n",
      "Learning:\n",
      "Machine learning algorithms can learn in different ways, including supervised learning (using labeled data), unsupervised learning (using unlabeled data), and reinforcement learning (learning through trial and error). \n",
      "Applications: \n",
      "Machine learning has a wide range of applications across various industries, including:\n",
      "Healthcare: Diagnosing diseases, analyzing medical images, and predicting patient outcomes.\n",
      "Finance: Detecting fraud, assessing credit risk, and predicting stock prices.\n",
      "E-commerce: Recommending products, personalizing user experiences, and optimizing pricing.\n",
      "Transportation: Developing self-driving cars, optimizing traffic flow, and predicting accidents.\n",
      "Natural Language Processing: Machine translation, sentiment analysis, and chatbots.\n",
      "In essence, machine learning is a powerful tool that enables computers to learn and adapt from data, leading to intelligent systems that can solve complex problems and automate tasks in a variety of fields. \n",
      "You are an expert MCQ maker. Given the above text, it is your job to create a quiz  of 3 multiple choice questions for Machine Learning students in simple tone. \n",
      "Make sure the questions are not repeated and check all the questions to be conforming the text as well.\n",
      "Make sure to format your response like  RESPONSE_JSON below  and use it as a guide. Ensure to make 3 MCQs\n",
      "### RESPONSE_JSON\n",
      "{\"1\": {\"mcq\": \"multiple choice question\", \"options\": {\"a\": \"choice here\", \"b\": \"choice here\", \"c\": \"choice here\", \"d\": \"choice here\"}, \"correct\": \"correct answer\"}, \"2\": {\"mcq\": \"multiple choice question\", \"options\": {\"a\": \"choice here\", \"b\": \"choice here\", \"c\": \"choice here\", \"d\": \"choice here\"}, \"correct\": \"correct answer\"}, \"3\": {\"mcq\": \"multiple choice question\", \"options\": {\"a\": \"choice here\", \"b\": \"choice here\", \"c\": \"choice here\", \"d\": \"choice here\"}, \"correct\": \"correct answer\"}}\n",
      "\n",
      "\u001b[0m\n",
      "\n",
      "\u001b[1m> Finished chain.\u001b[0m\n",
      "\n",
      "\n",
      "\u001b[1m> Entering new LLMChain chain...\u001b[0m\n",
      "Prompt after formatting:\n",
      "\u001b[32;1m\u001b[1;3m\n",
      "Text:Machine learning (ML) is a subfield of artificial intelligence (AI) that focuses on developing algorithms and models that allow computers to learn from and make predictions or decisions based on data, without being explicitly programmed for every task. In essence, it empowers machines to learn from experience and improve their performance over time by analyzing data and identifying patterns. \n",
      "Here's a more detailed explanation:\n",
      "Core Concept:\n",
      "Machine learning algorithms are designed to find patterns and relationships within data, and then use those patterns to make predictions or decisions about new, unseen data. \n",
      "Instead of being explicitly programmed with specific instructions, machines learn from data through a process of training. \n",
      "This training process involves feeding the algorithm a large dataset and allowing it to adjust its internal parameters to minimize errors and improve accuracy. \n",
      "Key Aspects:\n",
      "Data-driven:\n",
      "Machine learning relies heavily on data. The quality and quantity of data directly impact the performance of the algorithms. \n",
      "Algorithms:\n",
      "Machine learning uses various algorithms, each designed for different types of tasks and data. \n",
      "Models:\n",
      "The result of training a machine learning algorithm on a dataset is a model. This model represents the learned patterns and relationships within the data. \n",
      "Learning:\n",
      "Machine learning algorithms can learn in different ways, including supervised learning (using labeled data), unsupervised learning (using unlabeled data), and reinforcement learning (learning through trial and error). \n",
      "Applications: \n",
      "Machine learning has a wide range of applications across various industries, including:\n",
      "Healthcare: Diagnosing diseases, analyzing medical images, and predicting patient outcomes.\n",
      "Finance: Detecting fraud, assessing credit risk, and predicting stock prices.\n",
      "E-commerce: Recommending products, personalizing user experiences, and optimizing pricing.\n",
      "Transportation: Developing self-driving cars, optimizing traffic flow, and predicting accidents.\n",
      "Natural Language Processing: Machine translation, sentiment analysis, and chatbots.\n",
      "In essence, machine learning is a powerful tool that enables computers to learn and adapt from data, leading to intelligent systems that can solve complex problems and automate tasks in a variety of fields. \n",
      "You are an expert MCQ maker. Given the above text, it is your job to create a quiz  of 3 multiple choice questions for Machine Learning students in simple tone. \n",
      "Make sure the questions are not repeated and check all the questions to be conforming the text as well.\n",
      "Make sure to format your response like  RESPONSE_JSON below  and use it as a guide. Ensure to make 3 MCQs\n",
      "### RESPONSE_JSON\n",
      "{\"1\": {\"mcq\": \"multiple choice question\", \"options\": {\"a\": \"choice here\", \"b\": \"choice here\", \"c\": \"choice here\", \"d\": \"choice here\"}, \"correct\": \"correct answer\"}, \"2\": {\"mcq\": \"multiple choice question\", \"options\": {\"a\": \"choice here\", \"b\": \"choice here\", \"c\": \"choice here\", \"d\": \"choice here\"}, \"correct\": \"correct answer\"}, \"3\": {\"mcq\": \"multiple choice question\", \"options\": {\"a\": \"choice here\", \"b\": \"choice here\", \"c\": \"choice here\", \"d\": \"choice here\"}, \"correct\": \"correct answer\"}}\n",
      "\n",
      "\u001b[0m\n",
      "\n",
      "\u001b[1m> Finished chain.\u001b[0m\n",
      "\n",
      "\u001b[1m> Finished chain.\u001b[0m\n"
     ]
    }
   ],
   "source": [
    "with get_openai_callback() as cb:\n",
    "    response=generate_evaluate_chain(\n",
    "        {\n",
    "            \"text\": TEXT,\n",
    "            \"number\":NUMBER,\n",
    "            \"subject\":SUBJECT,\n",
    "            \"tone\":TONE,\n",
    "            \"response_json\": json.dumps(RESPONSE_JSON)\n",
    "\n",
    "        }\n",
    "    )"
   ]
  },
  {
   "cell_type": "code",
   "execution_count": 40,
   "id": "10803df2",
   "metadata": {},
   "outputs": [
    {
     "data": {
      "text/plain": [
       "{'text': \"Machine learning (ML) is a subfield of artificial intelligence (AI) that focuses on developing algorithms and models that allow computers to learn from and make predictions or decisions based on data, without being explicitly programmed for every task. In essence, it empowers machines to learn from experience and improve their performance over time by analyzing data and identifying patterns. \\nHere's a more detailed explanation:\\nCore Concept:\\nMachine learning algorithms are designed to find patterns and relationships within data, and then use those patterns to make predictions or decisions about new, unseen data. \\nInstead of being explicitly programmed with specific instructions, machines learn from data through a process of training. \\nThis training process involves feeding the algorithm a large dataset and allowing it to adjust its internal parameters to minimize errors and improve accuracy. \\nKey Aspects:\\nData-driven:\\nMachine learning relies heavily on data. The quality and quantity of data directly impact the performance of the algorithms. \\nAlgorithms:\\nMachine learning uses various algorithms, each designed for different types of tasks and data. \\nModels:\\nThe result of training a machine learning algorithm on a dataset is a model. This model represents the learned patterns and relationships within the data. \\nLearning:\\nMachine learning algorithms can learn in different ways, including supervised learning (using labeled data), unsupervised learning (using unlabeled data), and reinforcement learning (learning through trial and error). \\nApplications: \\nMachine learning has a wide range of applications across various industries, including:\\nHealthcare: Diagnosing diseases, analyzing medical images, and predicting patient outcomes.\\nFinance: Detecting fraud, assessing credit risk, and predicting stock prices.\\nE-commerce: Recommending products, personalizing user experiences, and optimizing pricing.\\nTransportation: Developing self-driving cars, optimizing traffic flow, and predicting accidents.\\nNatural Language Processing: Machine translation, sentiment analysis, and chatbots.\\nIn essence, machine learning is a powerful tool that enables computers to learn and adapt from data, leading to intelligent systems that can solve complex problems and automate tasks in a variety of fields. \",\n",
       " 'number': 3,\n",
       " 'subject': 'Machine Learning',\n",
       " 'tone': 'simple',\n",
       " 'response_json': '{\"1\": {\"mcq\": \"multiple choice question\", \"options\": {\"a\": \"choice here\", \"b\": \"choice here\", \"c\": \"choice here\", \"d\": \"choice here\"}, \"correct\": \"correct answer\"}, \"2\": {\"mcq\": \"multiple choice question\", \"options\": {\"a\": \"choice here\", \"b\": \"choice here\", \"c\": \"choice here\", \"d\": \"choice here\"}, \"correct\": \"correct answer\"}, \"3\": {\"mcq\": \"multiple choice question\", \"options\": {\"a\": \"choice here\", \"b\": \"choice here\", \"c\": \"choice here\", \"d\": \"choice here\"}, \"correct\": \"correct answer\"}}',\n",
       " 'quiz': '{\\n\"1\": {\\n\"mcq\": \"What is the core concept of machine learning?\",\\n\"options\": {\\n\"a\": \"Explicit programming with specific instructions\",\\n\"b\": \"Learning from data and finding patterns\",\\n\"c\": \"Analyzing data without using algorithms\",\\n\"d\": \"Ignoring data and making random decisions\"\\n},\\n\"correct\": \"b\"\\n},\\n\"2\": {\\n\"mcq\": \"Which industry uses machine learning for diagnosing diseases and predicting patient outcomes?\",\\n\"options\": {\\n\"a\": \"Finance\",\\n\"b\": \"E-commerce\",\\n\"c\": \"Healthcare\",\\n\"d\": \"Transportation\"\\n},\\n\"correct\": \"c\"\\n},\\n\"3\": {\\n\"mcq\": \"How do machine learning algorithms learn from data?\",\\n\"options\": {\\n\"a\": \"Through trial and error\",\\n\"b\": \"Using labeled data\",\\n\"c\": \"Ignoring data completely\",\\n\"d\": \"By not adjusting internal parameters\"\\n},\\n\"correct\": \"b\"\\n}\\n}',\n",
       " 'review': '\\n{\\n    \"1\": {\\n        \"mcq\": \"What is the core concept of machine learning?\",\\n        \"options\": {\\n            \"a\": \"Explicit programming\",\\n            \"b\": \"Learning from data\",\\n            \"c\": \"Random guessing\",\\n            \"d\": \"Ignoring data\"\\n        },\\n        \"correct\": \"b\"\\n    },\\n    \"2\": {\\n        \"mcq\": \"Which industry uses machine learning for predicting stock prices?\",\\n        \"options\": {\\n            \"a\": \"Healthcare\",\\n            \"b\": \"Finance\",\\n            \"c\": \"E-commerce\",\\n            \"d\": \"Transportation\"\\n        },\\n        \"correct\": \"b\"\\n    },\\n    \"3\": {\\n        \"mcq\": \"How do machine learning algorithms learn from data?\",\\n        \"options\": {\\n            \"a\": \"Through explicit programming\",\\n            \"b\": \"By ignoring data\",\\n            \"c\": \"By training on a dataset\",\\n            \"d\": \"By guessing randomly\"\\n        },\\n        \"correct\": \"c\"\\n    }\\n}'}"
      ]
     },
     "execution_count": 40,
     "metadata": {},
     "output_type": "execute_result"
    }
   ],
   "source": [
    "response"
   ]
  },
  {
   "cell_type": "code",
   "execution_count": 41,
   "id": "46b02e9b",
   "metadata": {},
   "outputs": [],
   "source": [
    "quiz=response.get(\"quiz\")"
   ]
  },
  {
   "cell_type": "code",
   "execution_count": null,
   "id": "be90abdc",
   "metadata": {},
   "outputs": [
    {
     "data": {
      "text/plain": [
       "{'1': {'mcq': 'What is the core concept of machine learning?',\n",
       "  'options': {'a': 'Explicit programming with specific instructions',\n",
       "   'b': 'Learning from data and finding patterns',\n",
       "   'c': 'Analyzing data without using algorithms',\n",
       "   'd': 'Ignoring data and making random decisions'},\n",
       "  'correct': 'b'},\n",
       " '2': {'mcq': 'Which industry uses machine learning for diagnosing diseases and predicting patient outcomes?',\n",
       "  'options': {'a': 'Finance',\n",
       "   'b': 'E-commerce',\n",
       "   'c': 'Healthcare',\n",
       "   'd': 'Transportation'},\n",
       "  'correct': 'c'},\n",
       " '3': {'mcq': 'How do machine learning algorithms learn from data?',\n",
       "  'options': {'a': 'Through trial and error',\n",
       "   'b': 'Using labeled data',\n",
       "   'c': 'Ignoring data completely',\n",
       "   'd': 'By not adjusting internal parameters'},\n",
       "  'correct': 'b'}}"
      ]
     },
     "execution_count": 42,
     "metadata": {},
     "output_type": "execute_result"
    }
   ],
   "source": [
    "quiz=json.loads(quiz)"
   ]
  },
  {
   "cell_type": "code",
   "execution_count": null,
   "id": "8bc57049",
   "metadata": {},
   "outputs": [],
   "source": [
    "quiz_table_data = []\n",
    "for key, value in quiz.items():\n",
    "    mcq = value[\"mcq\"]\n",
    "    options = \" | \".join(\n",
    "        [\n",
    "            f\"{option}: {option_value}\"\n",
    "            for option, option_value in value[\"options\"].items()\n",
    "            ]\n",
    "        )\n",
    "    correct = value[\"correct\"]\n",
    "    quiz_table_data.append({\"MCQ\": mcq, \"Choices\": options, \"Correct\": correct})"
   ]
  },
  {
   "cell_type": "code",
   "execution_count": null,
   "id": "03cb54b1",
   "metadata": {},
   "outputs": [],
   "source": [
    "quiz_table_data"
   ]
  },
  {
   "cell_type": "code",
   "execution_count": null,
   "id": "0b777303",
   "metadata": {},
   "outputs": [],
   "source": [
    "quiz=pd.DataFrame(quiz_table_data)"
   ]
  },
  {
   "cell_type": "code",
   "execution_count": null,
   "id": "4373c0d7",
   "metadata": {},
   "outputs": [
    {
     "data": {
      "text/plain": [
       "'06_29_2025_17_39_41'"
      ]
     },
     "execution_count": 3,
     "metadata": {},
     "output_type": "execute_result"
    }
   ],
   "source": [
    "from datetime import datetime\n",
    "datetime.now().strftime('%m_%d_%Y_%H_%M_%S').log"
   ]
  },
  {
   "cell_type": "code",
   "execution_count": null,
   "id": "1f05e39b",
   "metadata": {},
   "outputs": [],
   "source": []
  }
 ],
 "metadata": {
  "kernelspec": {
   "display_name": "Python 3",
   "language": "python",
   "name": "python3"
  },
  "language_info": {
   "codemirror_mode": {
    "name": "ipython",
    "version": 3
   },
   "file_extension": ".py",
   "mimetype": "text/x-python",
   "name": "python",
   "nbconvert_exporter": "python",
   "pygments_lexer": "ipython3",
   "version": "3.10.18"
  }
 },
 "nbformat": 4,
 "nbformat_minor": 5
}
